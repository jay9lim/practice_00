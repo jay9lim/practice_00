{
  "nbformat": 4,
  "nbformat_minor": 0,
  "metadata": {
    "colab": {
      "provenance": [],
      "authorship_tag": "ABX9TyOIzFFT161ocjk2aDA3LTm3"
    },
    "kernelspec": {
      "name": "python3",
      "display_name": "Python 3"
    },
    "language_info": {
      "name": "python"
    }
  },
  "cells": [
    {
      "cell_type": "code",
      "execution_count": null,
      "metadata": {
        "id": "NVZiTR3vz6aX"
      },
      "outputs": [],
      "source": [
        "# app\n",
        "\n",
        "import streamlit as st\n",
        "\n",
        "st.title('hello  고희동  ')\n",
        "st.header('This is header Area')\n",
        "\n",
        "\n",
        "# streamlit설치\n",
        "# pip install  streamlit\n",
        "# !pip install  streamlit # 코랩"
      ]
    }
  ]
}